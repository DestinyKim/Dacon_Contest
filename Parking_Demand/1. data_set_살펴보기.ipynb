{
 "cells": [
  {
   "cell_type": "code",
   "execution_count": 12,
   "metadata": {},
   "outputs": [],
   "source": [
    "import pandas as pd\n",
    "import numpy as np\n",
    "import matplotlib.pyplot as plt\n",
    "import seaborn as sns\n",
    "\n",
    "from matplotlib import font_manager, rc\n",
    "font_path = \"C:/Windows/Fonts/NGULIM.TTF\"\n",
    "font = font_manager.FontProperties(fname=font_path).get_name()\n",
    "rc('font', family=font)\n",
    "\n",
    "import warnings\n",
    "warnings.filterwarnings(\"ignore\")"
   ]
  },
  {
   "cell_type": "code",
   "execution_count": 13,
   "metadata": {},
   "outputs": [
    {
     "data": {
      "text/plain": [
       "((2952, 15), (1022, 14), (16, 23), (150, 2))"
      ]
     },
     "execution_count": 13,
     "metadata": {},
     "output_type": "execute_result"
    }
   ],
   "source": [
    "train = pd.read_csv('../../../data/train.csv')\n",
    "test = pd.read_csv('../../../data/test.csv')\n",
    "age = pd.read_csv('../../../data/age_gender_info.csv')\n",
    "sub = pd.read_csv('../../../data/sample_submission.csv')\n",
    "\n",
    "train.shape, test.shape, age.shape, sub.shape"
   ]
  },
  {
   "cell_type": "markdown",
   "metadata": {},
   "source": [
    "### 데이터 컬럼"
   ]
  },
  {
   "cell_type": "code",
   "execution_count": 14,
   "metadata": {},
   "outputs": [
    {
     "data": {
      "text/plain": [
       "Index(['단지코드', '총세대수', '임대건물구분', '지역', '공급유형', '전용면적', '전용면적별세대수', '공가수',\n",
       "       '자격유형', '임대보증금', '임대료', '도보 10분거리 내 지하철역 수(환승노선 수 반영)',\n",
       "       '도보 10분거리 내 버스정류장 수', '단지내주차면수', '등록차량수'],\n",
       "      dtype='object')"
      ]
     },
     "execution_count": 14,
     "metadata": {},
     "output_type": "execute_result"
    }
   ],
   "source": [
    "train.columns"
   ]
  },
  {
   "cell_type": "code",
   "execution_count": 15,
   "metadata": {},
   "outputs": [
    {
     "data": {
      "text/plain": [
       "Index(['단지코드', '총세대수', '임대건물구분', '지역', '공급유형', '전용면적', '전용면적별세대수', '공가수',\n",
       "       '자격유형', '임대보증금', '임대료', '도보 10분거리 내 지하철역 수(환승노선 수 반영)',\n",
       "       '도보 10분거리 내 버스정류장 수', '단지내주차면수'],\n",
       "      dtype='object')"
      ]
     },
     "execution_count": 15,
     "metadata": {},
     "output_type": "execute_result"
    }
   ],
   "source": [
    "test.columns"
   ]
  },
  {
   "cell_type": "code",
   "execution_count": 16,
   "metadata": {},
   "outputs": [
    {
     "data": {
      "text/plain": [
       "Index(['지역', '10대미만(여자)', '10대미만(남자)', '10대(여자)', '10대(남자)', '20대(여자)',\n",
       "       '20대(남자)', '30대(여자)', '30대(남자)', '40대(여자)', '40대(남자)', '50대(여자)',\n",
       "       '50대(남자)', '60대(여자)', '60대(남자)', '70대(여자)', '70대(남자)', '80대(여자)',\n",
       "       '80대(남자)', '90대(여자)', '90대(남자)', '100대(여자)', '100대(남자)'],\n",
       "      dtype='object')"
      ]
     },
     "execution_count": 16,
     "metadata": {},
     "output_type": "execute_result"
    }
   ],
   "source": [
    "age.columns"
   ]
  },
  {
   "cell_type": "markdown",
   "metadata": {},
   "source": [
    "### 데이터요약 확인하기"
   ]
  },
  {
   "cell_type": "code",
   "execution_count": 19,
   "metadata": {},
   "outputs": [
    {
     "data": {
      "text/html": [
       "<div>\n",
       "<style scoped>\n",
       "    .dataframe tbody tr th:only-of-type {\n",
       "        vertical-align: middle;\n",
       "    }\n",
       "\n",
       "    .dataframe tbody tr th {\n",
       "        vertical-align: top;\n",
       "    }\n",
       "\n",
       "    .dataframe thead th {\n",
       "        text-align: right;\n",
       "    }\n",
       "</style>\n",
       "<table border=\"1\" class=\"dataframe\">\n",
       "  <thead>\n",
       "    <tr style=\"text-align: right;\">\n",
       "      <th></th>\n",
       "      <th>count</th>\n",
       "      <th>mean</th>\n",
       "      <th>std</th>\n",
       "      <th>min</th>\n",
       "      <th>25%</th>\n",
       "      <th>50%</th>\n",
       "      <th>75%</th>\n",
       "      <th>max</th>\n",
       "    </tr>\n",
       "  </thead>\n",
       "  <tbody>\n",
       "    <tr>\n",
       "      <th>총세대수</th>\n",
       "      <td>2952.0</td>\n",
       "      <td>886.661247</td>\n",
       "      <td>513.540168</td>\n",
       "      <td>26.00</td>\n",
       "      <td>513.50</td>\n",
       "      <td>779.00</td>\n",
       "      <td>1106.0000</td>\n",
       "      <td>2568.0</td>\n",
       "    </tr>\n",
       "    <tr>\n",
       "      <th>전용면적</th>\n",
       "      <td>2952.0</td>\n",
       "      <td>44.757215</td>\n",
       "      <td>31.874280</td>\n",
       "      <td>12.62</td>\n",
       "      <td>32.10</td>\n",
       "      <td>39.93</td>\n",
       "      <td>51.5625</td>\n",
       "      <td>583.4</td>\n",
       "    </tr>\n",
       "    <tr>\n",
       "      <th>전용면적별세대수</th>\n",
       "      <td>2952.0</td>\n",
       "      <td>102.747967</td>\n",
       "      <td>132.640159</td>\n",
       "      <td>1.00</td>\n",
       "      <td>14.00</td>\n",
       "      <td>60.00</td>\n",
       "      <td>144.0000</td>\n",
       "      <td>1865.0</td>\n",
       "    </tr>\n",
       "    <tr>\n",
       "      <th>공가수</th>\n",
       "      <td>2952.0</td>\n",
       "      <td>12.921070</td>\n",
       "      <td>10.778831</td>\n",
       "      <td>0.00</td>\n",
       "      <td>4.00</td>\n",
       "      <td>11.00</td>\n",
       "      <td>20.0000</td>\n",
       "      <td>55.0</td>\n",
       "    </tr>\n",
       "    <tr>\n",
       "      <th>도보 10분거리 내 지하철역 수(환승노선 수 반영)</th>\n",
       "      <td>2741.0</td>\n",
       "      <td>0.176578</td>\n",
       "      <td>0.427408</td>\n",
       "      <td>0.00</td>\n",
       "      <td>0.00</td>\n",
       "      <td>0.00</td>\n",
       "      <td>0.0000</td>\n",
       "      <td>3.0</td>\n",
       "    </tr>\n",
       "    <tr>\n",
       "      <th>도보 10분거리 내 버스정류장 수</th>\n",
       "      <td>2948.0</td>\n",
       "      <td>3.695726</td>\n",
       "      <td>2.644665</td>\n",
       "      <td>0.00</td>\n",
       "      <td>2.00</td>\n",
       "      <td>3.00</td>\n",
       "      <td>4.0000</td>\n",
       "      <td>20.0</td>\n",
       "    </tr>\n",
       "    <tr>\n",
       "      <th>단지내주차면수</th>\n",
       "      <td>2952.0</td>\n",
       "      <td>601.668360</td>\n",
       "      <td>396.407072</td>\n",
       "      <td>13.00</td>\n",
       "      <td>279.25</td>\n",
       "      <td>517.00</td>\n",
       "      <td>823.0000</td>\n",
       "      <td>1798.0</td>\n",
       "    </tr>\n",
       "    <tr>\n",
       "      <th>등록차량수</th>\n",
       "      <td>2952.0</td>\n",
       "      <td>559.768293</td>\n",
       "      <td>433.375027</td>\n",
       "      <td>13.00</td>\n",
       "      <td>220.00</td>\n",
       "      <td>487.00</td>\n",
       "      <td>770.0000</td>\n",
       "      <td>2550.0</td>\n",
       "    </tr>\n",
       "  </tbody>\n",
       "</table>\n",
       "</div>"
      ],
      "text/plain": [
       "                               count        mean         std    min     25%  \\\n",
       "총세대수                          2952.0  886.661247  513.540168  26.00  513.50   \n",
       "전용면적                          2952.0   44.757215   31.874280  12.62   32.10   \n",
       "전용면적별세대수                      2952.0  102.747967  132.640159   1.00   14.00   \n",
       "공가수                           2952.0   12.921070   10.778831   0.00    4.00   \n",
       "도보 10분거리 내 지하철역 수(환승노선 수 반영)  2741.0    0.176578    0.427408   0.00    0.00   \n",
       "도보 10분거리 내 버스정류장 수            2948.0    3.695726    2.644665   0.00    2.00   \n",
       "단지내주차면수                       2952.0  601.668360  396.407072  13.00  279.25   \n",
       "등록차량수                         2952.0  559.768293  433.375027  13.00  220.00   \n",
       "\n",
       "                                 50%        75%     max  \n",
       "총세대수                          779.00  1106.0000  2568.0  \n",
       "전용면적                           39.93    51.5625   583.4  \n",
       "전용면적별세대수                       60.00   144.0000  1865.0  \n",
       "공가수                            11.00    20.0000    55.0  \n",
       "도보 10분거리 내 지하철역 수(환승노선 수 반영)    0.00     0.0000     3.0  \n",
       "도보 10분거리 내 버스정류장 수              3.00     4.0000    20.0  \n",
       "단지내주차면수                       517.00   823.0000  1798.0  \n",
       "등록차량수                         487.00   770.0000  2550.0  "
      ]
     },
     "execution_count": 19,
     "metadata": {},
     "output_type": "execute_result"
    }
   ],
   "source": [
    "train.describe().T"
   ]
  },
  {
   "cell_type": "code",
   "execution_count": 20,
   "metadata": {},
   "outputs": [
    {
     "data": {
      "text/html": [
       "<div>\n",
       "<style scoped>\n",
       "    .dataframe tbody tr th:only-of-type {\n",
       "        vertical-align: middle;\n",
       "    }\n",
       "\n",
       "    .dataframe tbody tr th {\n",
       "        vertical-align: top;\n",
       "    }\n",
       "\n",
       "    .dataframe thead th {\n",
       "        text-align: right;\n",
       "    }\n",
       "</style>\n",
       "<table border=\"1\" class=\"dataframe\">\n",
       "  <thead>\n",
       "    <tr style=\"text-align: right;\">\n",
       "      <th></th>\n",
       "      <th>count</th>\n",
       "      <th>mean</th>\n",
       "      <th>std</th>\n",
       "      <th>min</th>\n",
       "      <th>25%</th>\n",
       "      <th>50%</th>\n",
       "      <th>75%</th>\n",
       "      <th>max</th>\n",
       "    </tr>\n",
       "  </thead>\n",
       "  <tbody>\n",
       "    <tr>\n",
       "      <th>총세대수</th>\n",
       "      <td>1022.0</td>\n",
       "      <td>862.080235</td>\n",
       "      <td>536.340894</td>\n",
       "      <td>75.00</td>\n",
       "      <td>488.000</td>\n",
       "      <td>745.00</td>\n",
       "      <td>1161.0</td>\n",
       "      <td>2572.0</td>\n",
       "    </tr>\n",
       "    <tr>\n",
       "      <th>전용면적</th>\n",
       "      <td>1022.0</td>\n",
       "      <td>43.706311</td>\n",
       "      <td>35.890759</td>\n",
       "      <td>9.96</td>\n",
       "      <td>33.135</td>\n",
       "      <td>39.72</td>\n",
       "      <td>47.4</td>\n",
       "      <td>583.4</td>\n",
       "    </tr>\n",
       "    <tr>\n",
       "      <th>전용면적별세대수</th>\n",
       "      <td>1022.0</td>\n",
       "      <td>100.414873</td>\n",
       "      <td>125.997855</td>\n",
       "      <td>1.00</td>\n",
       "      <td>14.000</td>\n",
       "      <td>60.00</td>\n",
       "      <td>140.0</td>\n",
       "      <td>1341.0</td>\n",
       "    </tr>\n",
       "    <tr>\n",
       "      <th>공가수</th>\n",
       "      <td>1022.0</td>\n",
       "      <td>15.544031</td>\n",
       "      <td>11.070140</td>\n",
       "      <td>0.00</td>\n",
       "      <td>6.000</td>\n",
       "      <td>15.00</td>\n",
       "      <td>23.0</td>\n",
       "      <td>45.0</td>\n",
       "    </tr>\n",
       "    <tr>\n",
       "      <th>도보 10분거리 내 지하철역 수(환승노선 수 반영)</th>\n",
       "      <td>980.0</td>\n",
       "      <td>0.136735</td>\n",
       "      <td>0.435500</td>\n",
       "      <td>0.00</td>\n",
       "      <td>0.000</td>\n",
       "      <td>0.00</td>\n",
       "      <td>0.0</td>\n",
       "      <td>2.0</td>\n",
       "    </tr>\n",
       "    <tr>\n",
       "      <th>도보 10분거리 내 버스정류장 수</th>\n",
       "      <td>1022.0</td>\n",
       "      <td>4.626223</td>\n",
       "      <td>5.414568</td>\n",
       "      <td>1.00</td>\n",
       "      <td>2.000</td>\n",
       "      <td>3.00</td>\n",
       "      <td>5.0</td>\n",
       "      <td>50.0</td>\n",
       "    </tr>\n",
       "    <tr>\n",
       "      <th>단지내주차면수</th>\n",
       "      <td>1022.0</td>\n",
       "      <td>548.771037</td>\n",
       "      <td>342.636703</td>\n",
       "      <td>29.00</td>\n",
       "      <td>286.000</td>\n",
       "      <td>458.00</td>\n",
       "      <td>711.0</td>\n",
       "      <td>1696.0</td>\n",
       "    </tr>\n",
       "  </tbody>\n",
       "</table>\n",
       "</div>"
      ],
      "text/plain": [
       "                               count        mean         std    min      25%  \\\n",
       "총세대수                          1022.0  862.080235  536.340894  75.00  488.000   \n",
       "전용면적                          1022.0   43.706311   35.890759   9.96   33.135   \n",
       "전용면적별세대수                      1022.0  100.414873  125.997855   1.00   14.000   \n",
       "공가수                           1022.0   15.544031   11.070140   0.00    6.000   \n",
       "도보 10분거리 내 지하철역 수(환승노선 수 반영)   980.0    0.136735    0.435500   0.00    0.000   \n",
       "도보 10분거리 내 버스정류장 수            1022.0    4.626223    5.414568   1.00    2.000   \n",
       "단지내주차면수                       1022.0  548.771037  342.636703  29.00  286.000   \n",
       "\n",
       "                                 50%     75%     max  \n",
       "총세대수                          745.00  1161.0  2572.0  \n",
       "전용면적                           39.72    47.4   583.4  \n",
       "전용면적별세대수                       60.00   140.0  1341.0  \n",
       "공가수                            15.00    23.0    45.0  \n",
       "도보 10분거리 내 지하철역 수(환승노선 수 반영)    0.00     0.0     2.0  \n",
       "도보 10분거리 내 버스정류장 수              3.00     5.0    50.0  \n",
       "단지내주차면수                       458.00   711.0  1696.0  "
      ]
     },
     "execution_count": 20,
     "metadata": {},
     "output_type": "execute_result"
    }
   ],
   "source": [
    "test.describe().T"
   ]
  },
  {
   "cell_type": "markdown",
   "metadata": {},
   "source": [
    "### 결측치 확인하기"
   ]
  },
  {
   "cell_type": "code",
   "execution_count": 17,
   "metadata": {
    "scrolled": true
   },
   "outputs": [
    {
     "data": {
      "text/plain": [
       "단지코드                              0\n",
       "총세대수                              0\n",
       "임대건물구분                            0\n",
       "지역                                0\n",
       "공급유형                              0\n",
       "전용면적                              0\n",
       "전용면적별세대수                          0\n",
       "공가수                               0\n",
       "자격유형                              0\n",
       "임대보증금                           569\n",
       "임대료                             569\n",
       "도보 10분거리 내 지하철역 수(환승노선 수 반영)    211\n",
       "도보 10분거리 내 버스정류장 수                4\n",
       "단지내주차면수                           0\n",
       "등록차량수                             0\n",
       "dtype: int64"
      ]
     },
     "execution_count": 17,
     "metadata": {},
     "output_type": "execute_result"
    }
   ],
   "source": [
    "train.isnull().sum()"
   ]
  },
  {
   "cell_type": "code",
   "execution_count": 18,
   "metadata": {},
   "outputs": [
    {
     "data": {
      "text/plain": [
       "단지코드                              0\n",
       "총세대수                              0\n",
       "임대건물구분                            0\n",
       "지역                                0\n",
       "공급유형                              0\n",
       "전용면적                              0\n",
       "전용면적별세대수                          0\n",
       "공가수                               0\n",
       "자격유형                              2\n",
       "임대보증금                           180\n",
       "임대료                             180\n",
       "도보 10분거리 내 지하철역 수(환승노선 수 반영)     42\n",
       "도보 10분거리 내 버스정류장 수                0\n",
       "단지내주차면수                           0\n",
       "dtype: int64"
      ]
     },
     "execution_count": 18,
     "metadata": {},
     "output_type": "execute_result"
    }
   ],
   "source": [
    "test.isnull().sum()"
   ]
  },
  {
   "cell_type": "markdown",
   "metadata": {},
   "source": [
    "### 공통의 '지역'컬럼 확인"
   ]
  },
  {
   "cell_type": "code",
   "execution_count": 28,
   "metadata": {},
   "outputs": [
    {
     "name": "stdout",
     "output_type": "stream",
     "text": [
      "['경상북도' '경상남도' '대전광역시' '경기도' '전라북도' '강원도' '광주광역시' '충청남도' '부산광역시' '제주특별자치도'\n",
      " '울산광역시' '충청북도' '전라남도' '대구광역시' '서울특별시' '세종특별자치시']\n"
     ]
    }
   ],
   "source": [
    "print(train['지역'].unique())"
   ]
  },
  {
   "cell_type": "code",
   "execution_count": 29,
   "metadata": {},
   "outputs": [
    {
     "name": "stdout",
     "output_type": "stream",
     "text": [
      "['경기도' '부산광역시' '전라북도' '경상남도' '충청남도' '대전광역시' '제주특별자치도' '강원도' '울산광역시' '경상북도'\n",
      " '충청북도' '광주광역시' '전라남도' '대구광역시' '세종특별자치시']\n"
     ]
    }
   ],
   "source": [
    "print(test['지역'].unique())"
   ]
  },
  {
   "cell_type": "code",
   "execution_count": 30,
   "metadata": {},
   "outputs": [
    {
     "name": "stdout",
     "output_type": "stream",
     "text": [
      "['경상북도' '경상남도' '대전광역시' '경기도' '전라북도' '강원도' '광주광역시' '충청남도' '부산광역시' '제주특별자치도'\n",
      " '울산광역시' '충청북도' '전라남도' '대구광역시' '서울특별시' '세종특별자치시']\n"
     ]
    }
   ],
   "source": [
    "print(age['지역'].unique())"
   ]
  },
  {
   "cell_type": "markdown",
   "metadata": {},
   "source": [
    "#### test data에는 '지역'컬럼에 '서울특별시' 값이 없다."
   ]
  },
  {
   "cell_type": "code",
   "execution_count": null,
   "metadata": {},
   "outputs": [],
   "source": []
  },
  {
   "cell_type": "code",
   "execution_count": null,
   "metadata": {},
   "outputs": [],
   "source": []
  },
  {
   "cell_type": "code",
   "execution_count": null,
   "metadata": {},
   "outputs": [],
   "source": []
  },
  {
   "cell_type": "code",
   "execution_count": null,
   "metadata": {},
   "outputs": [],
   "source": []
  },
  {
   "cell_type": "code",
   "execution_count": 34,
   "metadata": {},
   "outputs": [],
   "source": [
    "sel = ['총세대수']\n",
    "X_train = train[sel]\n",
    "X_test = test[sel]\n",
    "y_train= train['등록차량수']"
   ]
  },
  {
   "cell_type": "code",
   "execution_count": 35,
   "metadata": {},
   "outputs": [],
   "source": [
    "from sklearn.linear_model import LinearRegression"
   ]
  },
  {
   "cell_type": "code",
   "execution_count": 36,
   "metadata": {},
   "outputs": [
    {
     "data": {
      "text/plain": [
       "array([524.31256846, 524.31256846, 524.31256846, ..., 424.88994317,\n",
       "       424.88994317, 424.88994317])"
      ]
     },
     "execution_count": 36,
     "metadata": {},
     "output_type": "execute_result"
    }
   ],
   "source": [
    "model = LinearRegression()\n",
    "model.fit(X_train, y_train)\n",
    "pred = model.predict(X_test)\n",
    "pred"
   ]
  },
  {
   "cell_type": "code",
   "execution_count": null,
   "metadata": {},
   "outputs": [],
   "source": []
  }
 ],
 "metadata": {
  "kernelspec": {
   "display_name": "Python 3",
   "language": "python",
   "name": "python3"
  },
  "language_info": {
   "codemirror_mode": {
    "name": "ipython",
    "version": 3
   },
   "file_extension": ".py",
   "mimetype": "text/x-python",
   "name": "python",
   "nbconvert_exporter": "python",
   "pygments_lexer": "ipython3",
   "version": "3.8.5"
  }
 },
 "nbformat": 4,
 "nbformat_minor": 4
}
